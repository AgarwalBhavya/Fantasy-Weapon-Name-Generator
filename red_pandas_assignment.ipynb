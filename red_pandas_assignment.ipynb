{
 "cells": [
  {
   "cell_type": "code",
   "id": "initial_id",
   "metadata": {
    "collapsed": true,
    "ExecuteTime": {
     "end_time": "2025-04-08T16:02:28.421382Z",
     "start_time": "2025-04-08T16:02:25.501676Z"
    }
   },
   "source": [
    "# Install necessary libraries\n",
    "!pip install transformers datasets accelerate\n",
    "from datasets import load_dataset\n",
    "import pandas as pd\n",
    "import re"
   ],
   "outputs": [
    {
     "name": "stdout",
     "output_type": "stream",
     "text": [
      "Requirement already satisfied: transformers in c:\\bhavya\\internships\\files\\scrapingproject\\.venv\\lib\\site-packages (4.51.1)\n",
      "Requirement already satisfied: datasets in c:\\bhavya\\internships\\files\\scrapingproject\\.venv\\lib\\site-packages (3.5.0)\n",
      "Requirement already satisfied: accelerate in c:\\bhavya\\internships\\files\\scrapingproject\\.venv\\lib\\site-packages (1.6.0)\n",
      "Requirement already satisfied: filelock in c:\\bhavya\\internships\\files\\scrapingproject\\.venv\\lib\\site-packages (from transformers) (3.16.1)\n",
      "Requirement already satisfied: huggingface-hub<1.0,>=0.30.0 in c:\\bhavya\\internships\\files\\scrapingproject\\.venv\\lib\\site-packages (from transformers) (0.30.2)\n",
      "Requirement already satisfied: numpy>=1.17 in c:\\bhavya\\internships\\files\\scrapingproject\\.venv\\lib\\site-packages (from transformers) (2.1.1)\n",
      "Requirement already satisfied: packaging>=20.0 in c:\\bhavya\\internships\\files\\scrapingproject\\.venv\\lib\\site-packages (from transformers) (24.1)\n",
      "Requirement already satisfied: pyyaml>=5.1 in c:\\bhavya\\internships\\files\\scrapingproject\\.venv\\lib\\site-packages (from transformers) (6.0.2)\n",
      "Requirement already satisfied: regex!=2019.12.17 in c:\\bhavya\\internships\\files\\scrapingproject\\.venv\\lib\\site-packages (from transformers) (2024.11.6)\n",
      "Requirement already satisfied: requests in c:\\bhavya\\internships\\files\\scrapingproject\\.venv\\lib\\site-packages (from transformers) (2.32.3)\n",
      "Requirement already satisfied: tokenizers<0.22,>=0.21 in c:\\bhavya\\internships\\files\\scrapingproject\\.venv\\lib\\site-packages (from transformers) (0.21.1)\n",
      "Requirement already satisfied: safetensors>=0.4.3 in c:\\bhavya\\internships\\files\\scrapingproject\\.venv\\lib\\site-packages (from transformers) (0.5.3)\n",
      "Requirement already satisfied: tqdm>=4.27 in c:\\bhavya\\internships\\files\\scrapingproject\\.venv\\lib\\site-packages (from transformers) (4.67.1)\n",
      "Requirement already satisfied: pyarrow>=15.0.0 in c:\\bhavya\\internships\\files\\scrapingproject\\.venv\\lib\\site-packages (from datasets) (19.0.1)\n",
      "Requirement already satisfied: dill<0.3.9,>=0.3.0 in c:\\bhavya\\internships\\files\\scrapingproject\\.venv\\lib\\site-packages (from datasets) (0.3.8)\n",
      "Requirement already satisfied: pandas in c:\\bhavya\\internships\\files\\scrapingproject\\.venv\\lib\\site-packages (from datasets) (2.2.3)\n",
      "Requirement already satisfied: xxhash in c:\\bhavya\\internships\\files\\scrapingproject\\.venv\\lib\\site-packages (from datasets) (3.5.0)\n",
      "Requirement already satisfied: multiprocess<0.70.17 in c:\\bhavya\\internships\\files\\scrapingproject\\.venv\\lib\\site-packages (from datasets) (0.70.16)\n",
      "Requirement already satisfied: fsspec<=2024.12.0,>=2023.1.0 in c:\\bhavya\\internships\\files\\scrapingproject\\.venv\\lib\\site-packages (from fsspec[http]<=2024.12.0,>=2023.1.0->datasets) (2024.12.0)\n",
      "Requirement already satisfied: aiohttp in c:\\bhavya\\internships\\files\\scrapingproject\\.venv\\lib\\site-packages (from datasets) (3.11.16)\n",
      "Requirement already satisfied: psutil in c:\\bhavya\\internships\\files\\scrapingproject\\.venv\\lib\\site-packages (from accelerate) (6.1.0)\n",
      "Requirement already satisfied: torch>=2.0.0 in c:\\bhavya\\internships\\files\\scrapingproject\\.venv\\lib\\site-packages (from accelerate) (2.6.0)\n",
      "Requirement already satisfied: aiohappyeyeballs>=2.3.0 in c:\\bhavya\\internships\\files\\scrapingproject\\.venv\\lib\\site-packages (from aiohttp->datasets) (2.6.1)\n",
      "Requirement already satisfied: aiosignal>=1.1.2 in c:\\bhavya\\internships\\files\\scrapingproject\\.venv\\lib\\site-packages (from aiohttp->datasets) (1.3.2)\n",
      "Requirement already satisfied: attrs>=17.3.0 in c:\\bhavya\\internships\\files\\scrapingproject\\.venv\\lib\\site-packages (from aiohttp->datasets) (24.2.0)\n",
      "Requirement already satisfied: frozenlist>=1.1.1 in c:\\bhavya\\internships\\files\\scrapingproject\\.venv\\lib\\site-packages (from aiohttp->datasets) (1.5.0)\n",
      "Requirement already satisfied: multidict<7.0,>=4.5 in c:\\bhavya\\internships\\files\\scrapingproject\\.venv\\lib\\site-packages (from aiohttp->datasets) (6.3.2)\n",
      "Requirement already satisfied: propcache>=0.2.0 in c:\\bhavya\\internships\\files\\scrapingproject\\.venv\\lib\\site-packages (from aiohttp->datasets) (0.3.1)\n",
      "Requirement already satisfied: yarl<2.0,>=1.17.0 in c:\\bhavya\\internships\\files\\scrapingproject\\.venv\\lib\\site-packages (from aiohttp->datasets) (1.19.0)\n",
      "Requirement already satisfied: typing-extensions>=3.7.4.3 in c:\\bhavya\\internships\\files\\scrapingproject\\.venv\\lib\\site-packages (from huggingface-hub<1.0,>=0.30.0->transformers) (4.13.1)\n",
      "Requirement already satisfied: charset-normalizer<4,>=2 in c:\\bhavya\\internships\\files\\scrapingproject\\.venv\\lib\\site-packages (from requests->transformers) (3.3.2)\n",
      "Requirement already satisfied: idna<4,>=2.5 in c:\\bhavya\\internships\\files\\scrapingproject\\.venv\\lib\\site-packages (from requests->transformers) (3.10)\n",
      "Requirement already satisfied: urllib3<3,>=1.21.1 in c:\\bhavya\\internships\\files\\scrapingproject\\.venv\\lib\\site-packages (from requests->transformers) (2.2.3)\n",
      "Requirement already satisfied: certifi>=2017.4.17 in c:\\bhavya\\internships\\files\\scrapingproject\\.venv\\lib\\site-packages (from requests->transformers) (2024.8.30)\n",
      "Requirement already satisfied: networkx in c:\\bhavya\\internships\\files\\scrapingproject\\.venv\\lib\\site-packages (from torch>=2.0.0->accelerate) (3.4.2)\n",
      "Requirement already satisfied: jinja2 in c:\\bhavya\\internships\\files\\scrapingproject\\.venv\\lib\\site-packages (from torch>=2.0.0->accelerate) (3.1.4)\n",
      "Requirement already satisfied: setuptools in c:\\bhavya\\internships\\files\\scrapingproject\\.venv\\lib\\site-packages (from torch>=2.0.0->accelerate) (75.6.0)\n",
      "Requirement already satisfied: sympy==1.13.1 in c:\\bhavya\\internships\\files\\scrapingproject\\.venv\\lib\\site-packages (from torch>=2.0.0->accelerate) (1.13.1)\n",
      "Requirement already satisfied: mpmath<1.4,>=1.1.0 in c:\\bhavya\\internships\\files\\scrapingproject\\.venv\\lib\\site-packages (from sympy==1.13.1->torch>=2.0.0->accelerate) (1.3.0)\n",
      "Requirement already satisfied: colorama in c:\\bhavya\\internships\\files\\scrapingproject\\.venv\\lib\\site-packages (from tqdm>=4.27->transformers) (0.4.6)\n",
      "Requirement already satisfied: python-dateutil>=2.8.2 in c:\\bhavya\\internships\\files\\scrapingproject\\.venv\\lib\\site-packages (from pandas->datasets) (2.9.0.post0)\n",
      "Requirement already satisfied: pytz>=2020.1 in c:\\bhavya\\internships\\files\\scrapingproject\\.venv\\lib\\site-packages (from pandas->datasets) (2024.2)\n",
      "Requirement already satisfied: tzdata>=2022.7 in c:\\bhavya\\internships\\files\\scrapingproject\\.venv\\lib\\site-packages (from pandas->datasets) (2024.2)\n",
      "Requirement already satisfied: six>=1.5 in c:\\bhavya\\internships\\files\\scrapingproject\\.venv\\lib\\site-packages (from python-dateutil>=2.8.2->pandas->datasets) (1.16.0)\n",
      "Requirement already satisfied: MarkupSafe>=2.0 in c:\\bhavya\\internships\\files\\scrapingproject\\.venv\\lib\\site-packages (from jinja2->torch>=2.0.0->accelerate) (3.0.2)\n"
     ]
    }
   ],
   "execution_count": 4
  },
  {
   "metadata": {
    "ExecuteTime": {
     "end_time": "2025-04-08T16:02:32.276612Z",
     "start_time": "2025-04-08T16:02:28.421382Z"
    }
   },
   "cell_type": "code",
   "source": [
    "# Load the D&D character backstories dataset\n",
    "dataset = load_dataset(\"MohamedRashad/dnd_characters_backstories\", split=\"train\")\n",
    "df = pd.DataFrame(dataset)"
   ],
   "id": "5d0a6fa0927cc8d9",
   "outputs": [],
   "execution_count": 5
  },
  {
   "metadata": {
    "ExecuteTime": {
     "end_time": "2025-04-08T16:03:22.719445Z",
     "start_time": "2025-04-08T16:03:22.714649Z"
    }
   },
   "cell_type": "code",
   "source": [
    "# Extract weapon-related information using regex\n",
    "weapon_keywords = r\"\\b(sword|blade|axe|bow|staff|dagger|mace|hammer|lance|spear|crossbow|flail|scimitar|halberd|rapier|whip|club|morningstar|trident|glaive|sling|quarterstaff|pick|polearm|katana|nunchaku|shuriken|chakram|scythe|sabre|cutlass|dirk|stiletto|kris|bolo|kukri|tomahawk|boomerang|cudgel|bludgeon|warhammer|battleaxe|longsword|shortsword|greatsword|broadsword|claymore|zweihander|falchion|estoc|tanto|wakizashi|yari|naginata|kanabo|tetsubo|guisarme|bec de corbin|fauchard|billhook|manriki-gusari|kusarigama|yari|naginata|kanabo|tetsubo|guisarme|bec de corbin|fauchard|billhook|manriki-gusari|kusarigama)\\b\""
   ],
   "id": "a6137fd3a398615f",
   "outputs": [],
   "execution_count": 6
  },
  {
   "metadata": {
    "ExecuteTime": {
     "end_time": "2025-04-08T16:03:40.900617Z",
     "start_time": "2025-04-08T16:03:40.896751Z"
    }
   },
   "cell_type": "code",
   "source": [
    "# Function to extract sentences containing weapon keywords\n",
    "def extract_weapon_sentences(text, keywords):\n",
    "    sentences = re.split(r'(?<=[.!?]) +', text)\n",
    "    weapon_sentences = [sentence for sentence in sentences if re.search(keywords, sentence, re.IGNORECASE)]\n",
    "    return weapon_sentences\n"
   ],
   "id": "70bd559d59fb08de",
   "outputs": [],
   "execution_count": 7
  },
  {
   "metadata": {
    "ExecuteTime": {
     "end_time": "2025-04-08T16:03:52.612843Z",
     "start_time": "2025-04-08T16:03:52.547930Z"
    }
   },
   "cell_type": "code",
   "source": [
    "# Apply extraction function to the dataset\n",
    "df['weapon_sentences'] = df['text'].apply(lambda x: extract_weapon_sentences(x, weapon_keywords))\n"
   ],
   "id": "be2c6093c73d92be",
   "outputs": [],
   "execution_count": 8
  },
  {
   "metadata": {
    "ExecuteTime": {
     "end_time": "2025-04-08T16:04:06.739184Z",
     "start_time": "2025-04-08T16:04:06.733259Z"
    }
   },
   "cell_type": "code",
   "source": [
    "# Flatten the list of weapon sentences and remove duplicates\n",
    "weapon_data = list(set([sentence for sublist in df['weapon_sentences'] for sentence in sublist]))\n"
   ],
   "id": "9419c132f10cb2fe",
   "outputs": [],
   "execution_count": 9
  },
  {
   "metadata": {
    "ExecuteTime": {
     "end_time": "2025-04-08T16:04:18.503150Z",
     "start_time": "2025-04-08T16:04:18.486391Z"
    }
   },
   "cell_type": "code",
   "source": [
    "# Create a DataFrame and save to a text file for training\n",
    "weapon_df = pd.DataFrame(weapon_data, columns=[\"text\"])\n",
    "weapon_df.to_csv(\"weapon_descriptions.txt\", index=False, header=False)\n"
   ],
   "id": "2eeb2bb8c8a4017c",
   "outputs": [],
   "execution_count": 10
  },
  {
   "metadata": {
    "ExecuteTime": {
     "end_time": "2025-04-10T06:02:45.957607Z",
     "start_time": "2025-04-10T06:02:38.156381Z"
    }
   },
   "cell_type": "code",
   "source": [
    "# Load tokenizer and model\n",
    "from transformers import AutoTokenizer, AutoModelForCausalLM, TextDataset, DataCollatorForLanguageModeling, Trainer, TrainingArguments\n"
   ],
   "id": "59aa96fbace6a36e",
   "outputs": [],
   "execution_count": 2
  },
  {
   "metadata": {
    "ExecuteTime": {
     "end_time": "2025-04-10T06:02:48.763191Z",
     "start_time": "2025-04-10T06:02:45.957607Z"
    }
   },
   "cell_type": "code",
   "source": [
    "model_name = \"distilgpt2\"\n",
    "tokenizer = AutoTokenizer.from_pretrained(model_name)\n",
    "model = AutoModelForCausalLM.from_pretrained(model_name)"
   ],
   "id": "362d705cd9629c9d",
   "outputs": [],
   "execution_count": 3
  },
  {
   "metadata": {
    "ExecuteTime": {
     "end_time": "2025-04-10T06:02:50.416445Z",
     "start_time": "2025-04-10T06:02:50.411522Z"
    }
   },
   "cell_type": "code",
   "source": [
    "# Tokenize dataset\n",
    "def load_dataset(tokenizer, file_path, block_size=128):\n",
    "    return TextDataset(\n",
    "        tokenizer=tokenizer,\n",
    "        file_path=file_path,\n",
    "        block_size=block_size\n",
    "    )"
   ],
   "id": "e24090ed727986bc",
   "outputs": [],
   "execution_count": 4
  },
  {
   "metadata": {
    "ExecuteTime": {
     "end_time": "2025-04-10T06:03:29.669908Z",
     "start_time": "2025-04-10T06:03:29.664634Z"
    }
   },
   "cell_type": "code",
   "source": [
    "train_dataset = load_dataset(tokenizer, \"weapon_descriptions.txt\")\n",
    "\n",
    "data_collator = DataCollatorForLanguageModeling(\n",
    "    tokenizer=tokenizer, mlm=False,\n",
    ")\n",
    "import warnings\n",
    "warnings.filterwarnings(\"ignore\")\n"
   ],
   "id": "b7ebcd12af81d564",
   "outputs": [],
   "execution_count": 6
  },
  {
   "metadata": {
    "ExecuteTime": {
     "end_time": "2025-04-10T06:03:31.774135Z",
     "start_time": "2025-04-10T06:03:31.748341Z"
    }
   },
   "cell_type": "code",
   "source": [
    "# Training setup\n",
    "training_args = TrainingArguments(\n",
    "    output_dir=\"./results\",\n",
    "    overwrite_output_dir=True,\n",
    "    num_train_epochs=4,\n",
    "    per_device_train_batch_size=2,\n",
    "    save_steps=500,\n",
    "    save_total_limit=2,\n",
    "    logging_steps=100,\n",
    "    prediction_loss_only=True\n",
    ")\n"
   ],
   "id": "49d922fe59184141",
   "outputs": [],
   "execution_count": 7
  },
  {
   "metadata": {
    "ExecuteTime": {
     "end_time": "2025-04-10T06:04:06.931449Z",
     "start_time": "2025-04-10T06:03:55.670502Z"
    }
   },
   "cell_type": "code",
   "source": [
    "trainer = Trainer(\n",
    "    model=model,\n",
    "    args=training_args,\n",
    "    train_dataset=train_dataset,\n",
    "    data_collator=data_collator,\n",
    ")\n",
    "import warnings\n",
    "warnings.filterwarnings(\"ignore\")\n",
    "\n",
    "# Train the model\n",
    "trainer.train()"
   ],
   "id": "65e359ccca35ff0e",
   "outputs": [
    {
     "data": {
      "text/plain": [
       "<IPython.core.display.HTML object>"
      ],
      "text/html": [
       "\n",
       "    <div>\n",
       "      \n",
       "      <progress value='8' max='8' style='width:300px; height:20px; vertical-align: middle;'></progress>\n",
       "      [8/8 00:09, Epoch 4/4]\n",
       "    </div>\n",
       "    <table border=\"1\" class=\"dataframe\">\n",
       "  <thead>\n",
       " <tr style=\"text-align: left;\">\n",
       "      <th>Step</th>\n",
       "      <th>Training Loss</th>\n",
       "    </tr>\n",
       "  </thead>\n",
       "  <tbody>\n",
       "  </tbody>\n",
       "</table><p>"
      ]
     },
     "metadata": {},
     "output_type": "display_data"
    },
    {
     "data": {
      "text/plain": [
       "TrainOutput(global_step=8, training_loss=2.3799827098846436, metrics={'train_runtime': 11.0722, 'train_samples_per_second': 1.445, 'train_steps_per_second': 0.723, 'total_flos': 522593501184.0, 'train_loss': 2.3799827098846436, 'epoch': 4.0})"
      ]
     },
     "execution_count": 9,
     "metadata": {},
     "output_type": "execute_result"
    }
   ],
   "execution_count": 9
  },
  {
   "metadata": {
    "ExecuteTime": {
     "end_time": "2025-04-10T06:04:09.061192Z",
     "start_time": "2025-04-10T06:04:08.542944Z"
    }
   },
   "cell_type": "code",
   "source": [
    "# Save model\n",
    "trainer.save_model(\"./fine-tuned-model\")\n",
    "tokenizer.save_pretrained(\"./fine-tuned-model\")"
   ],
   "id": "713da7017a4681f0",
   "outputs": [
    {
     "data": {
      "text/plain": [
       "('./fine-tuned-model\\\\tokenizer_config.json',\n",
       " './fine-tuned-model\\\\special_tokens_map.json',\n",
       " './fine-tuned-model\\\\vocab.json',\n",
       " './fine-tuned-model\\\\merges.txt',\n",
       " './fine-tuned-model\\\\added_tokens.json',\n",
       " './fine-tuned-model\\\\tokenizer.json')"
      ]
     },
     "execution_count": 10,
     "metadata": {},
     "output_type": "execute_result"
    }
   ],
   "execution_count": 10
  },
  {
   "metadata": {
    "ExecuteTime": {
     "end_time": "2025-04-10T06:04:26.797868Z",
     "start_time": "2025-04-10T06:04:25.259982Z"
    }
   },
   "cell_type": "code",
   "source": [
    "# Sample comparison\n",
    "from transformers import pipeline\n",
    "\n",
    "original_model = pipeline(\"text-generation\", model=\"distilgpt2\", tokenizer=tokenizer)\n",
    "fine_tuned_model = pipeline(\"text-generation\", model=\"./fine-tuned-model\", tokenizer=tokenizer)\n",
    "\n",
    "prompt = \"Flame\"\n",
    "\n",
    "print(\"🔹 Original:\")\n",
    "print(original_model(prompt, max_length=20)[0]['generated_text'])\n",
    "\n",
    "print(\"\\n🔸 Fine-tuned:\")\n",
    "print(fine_tuned_model(prompt, max_length=20)[0]['generated_text'])\n",
    "import warnings\n",
    "warnings.filterwarnings(\"ignore\")"
   ],
   "id": "67f971fd7389dfc0",
   "outputs": [
    {
     "name": "stderr",
     "output_type": "stream",
     "text": [
      "Device set to use cpu\n",
      "Device set to use cpu\n",
      "Setting `pad_token_id` to `eos_token_id`:50256 for open-end generation.\n"
     ]
    },
    {
     "name": "stdout",
     "output_type": "stream",
     "text": [
      "🔹 Original:\n"
     ]
    },
    {
     "name": "stderr",
     "output_type": "stream",
     "text": [
      "Setting `pad_token_id` to `eos_token_id`:50256 for open-end generation.\n"
     ]
    },
    {
     "name": "stdout",
     "output_type": "stream",
     "text": [
      "Flame, as well as her father, was present alongside her.\n",
      "She and her father were\n",
      "\n",
      "🔸 Fine-tuned:\n",
      "Flamelee) in the form of a child(doughnut or pearls of sea fl\n"
     ]
    }
   ],
   "execution_count": 12
  },
  {
   "metadata": {},
   "cell_type": "code",
   "outputs": [],
   "execution_count": null,
   "source": "",
   "id": "8194afb109de39f5"
  }
 ],
 "metadata": {
  "kernelspec": {
   "display_name": "Python 3",
   "language": "python",
   "name": "python3"
  },
  "language_info": {
   "codemirror_mode": {
    "name": "ipython",
    "version": 2
   },
   "file_extension": ".py",
   "mimetype": "text/x-python",
   "name": "python",
   "nbconvert_exporter": "python",
   "pygments_lexer": "ipython2",
   "version": "2.7.6"
  }
 },
 "nbformat": 4,
 "nbformat_minor": 5
}
